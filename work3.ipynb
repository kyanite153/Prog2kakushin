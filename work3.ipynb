{
  "nbformat": 4,
  "nbformat_minor": 0,
  "metadata": {
    "colab": {
      "provenance": [],
      "authorship_tag": "ABX9TyOJiBU46r/skBUmXoKgnu58",
      "include_colab_link": true
    },
    "kernelspec": {
      "name": "python3",
      "display_name": "Python 3"
    },
    "language_info": {
      "name": "python"
    }
  },
  "cells": [
    {
      "cell_type": "markdown",
      "metadata": {
        "id": "view-in-github",
        "colab_type": "text"
      },
      "source": [
        "<a href=\"https://colab.research.google.com/github/kyanite153/Prog2kakushin/blob/main/work3.ipynb\" target=\"_parent\"><img src=\"https://colab.research.google.com/assets/colab-badge.svg\" alt=\"Open In Colab\"/></a>"
      ]
    },
    {
      "cell_type": "code",
      "execution_count": 75,
      "metadata": {
        "colab": {
          "base_uri": "https://localhost:8080/",
          "height": 601
        },
        "id": "ti3_XHwXzg05",
        "outputId": "d2d2eb00-9dea-4f54-9560-aa94702c60bf"
      },
      "outputs": [
        {
          "output_type": "stream",
          "name": "stdout",
          "text": [
            "迷路の縦の長さを入力：15\n",
            "迷路の横の長さを入力：15\n",
            "\n",
            "緑の丸がスタート地点\n",
            "白の線は壁\n",
            "迷路の外側がゴール\n"
          ]
        },
        {
          "output_type": "display_data",
          "data": {
            "text/plain": [
              "<PIL.Image.Image image mode=RGB size=476x476>"
            ],
            "image/png": "[encoded data removed]"
          },
          "metadata": {}
        }
      ],
      "source": [
        "import numpy as np\n",
        "import cv2\n",
        "import random\n",
        "from google.colab.patches import cv2_imshow\n",
        "\n",
        "while True:\n",
        "  h = int(input('迷路の縦の長さを入力：'))\n",
        "  if h >= 1:\n",
        "    h = 2 * h + 4\n",
        "    break\n",
        "  else:\n",
        "    print('長さは1以上にしてください')\n",
        "while True:\n",
        "  w = int(input('迷路の横の長さを入力：'))\n",
        "  if w >= 1:\n",
        "    w = 2 * w + 4\n",
        "    break\n",
        "  else:\n",
        "    print('長さは1以上にしてください')\n",
        "\n",
        "a = 14\n",
        "\n",
        "h *= a\n",
        "w *= a\n",
        "\n",
        "color = (255,255,255)\n",
        "\n",
        "p = np.array([w//2, h//2])\n",
        "\n",
        "img = np.full((h, w, 3), 0, np.uint8)\n",
        "\n",
        "move_list = np.array([[0,a],[a,0],[0,-a],[-a,0]])\n",
        "direction = 1\n",
        "mode = 1\n",
        "count = 0\n",
        "max_count = random.randint(0,7)\n",
        "log = {(p[0],p[1]):direction}\n",
        "back = -1\n",
        "going = True\n",
        "\n",
        "cv2.circle(img, (p[0]-a//2, p[1]-a//2), a//3, color=(0,255,0), thickness=-1,lineType=16)\n",
        "\n",
        "print()\n",
        "print('緑の丸がスタート地点')\n",
        "print('白の線は壁')\n",
        "print('迷路の外側がゴール')\n",
        "\n",
        "while going==True:\n",
        "  for i, x in enumerate([mode, 0, -mode]):\n",
        "    new_direction = (direction + x) % 4\n",
        "    move = move_list[new_direction]\n",
        "    new_p = p + move\n",
        "    if ((new_p[0],new_p[1]) in list(log.keys())) or (not ((a*2 <= new_p[0] <= w-a*2) and (a*2 <= new_p[1] <= h-a*2))):\n",
        "      if i == 2:\n",
        "        p = np.array(list(log.keys())[back])\n",
        "        back -= 1\n",
        "        if -back == len(log):\n",
        "          going = False\n",
        "        break\n",
        "      else:\n",
        "        continue\n",
        "    cv2.line(img, p, p+move, color=color, thickness=2, lineType=16)\n",
        "    p = new_p\n",
        "    direction = new_direction\n",
        "    log[(p[0],p[1])] = direction\n",
        "    back = -1\n",
        "    count += 1\n",
        "    if count >= max_count:\n",
        "      mode *= -1\n",
        "      count = 0\n",
        "      max_count = abs(max_count-int(len(log)**0.5))+random.randint(0,5)\n",
        "    break\n",
        "\n",
        "cv2_imshow(img)\n"
      ]
    }
  ]
}