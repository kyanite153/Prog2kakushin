{
  "nbformat": 4,
  "nbformat_minor": 0,
  "metadata": {
    "colab": {
      "provenance": [],
      "authorship_tag": "ABX9TyOopcVECAuDUom/idqNyK5j",
      "include_colab_link": true
    },
    "kernelspec": {
      "name": "python3",
      "display_name": "Python 3"
    },
    "language_info": {
      "name": "python"
    }
  },
  "cells": [
    {
      "cell_type": "markdown",
      "metadata": {
        "id": "view-in-github",
        "colab_type": "text"
      },
      "source": [
        "<a href=\"https://colab.research.google.com/github/kyanite153/Prog2kakushin/blob/main/work3.ipynb\" target=\"_parent\"><img src=\"https://colab.research.google.com/assets/colab-badge.svg\" alt=\"Open In Colab\"/></a>"
      ]
    },
    {
      "cell_type": "code",
      "execution_count": 162,
      "metadata": {
        "colab": {
          "base_uri": "https://localhost:8080/",
          "height": 257
        },
        "id": "ti3_XHwXzg05",
        "outputId": "3f64872d-e686-4dea-cad6-658abc42725f"
      },
      "outputs": [
        {
          "output_type": "display_data",
          "data": {
            "text/plain": [
              "<PIL.Image.Image image mode=RGB size=320x240>"
            ],
            "image/png": "[encoded data removed]"
          },
          "metadata": {}
        }
      ],
      "source": [
        "import numpy as np\n",
        "import cv2\n",
        "import random\n",
        "from google.colab.patches import cv2_imshow\n",
        "\n",
        "h = 240\n",
        "w = 320\n",
        "\n",
        "a = 10\n",
        "color = (255,255,255)\n",
        "\n",
        "p = np.array([w//2, h//2])\n",
        "\n",
        "img1 = np.full((h, w, 3), 0, np.uint8)\n",
        "\n",
        "move_list = np.array([[0,a],[a,0],[0,-a],[-a,0]])\n",
        "direction = 1\n",
        "mode = 1\n",
        "count = 0\n",
        "max_count = random.randint(5,20)\n",
        "log = {(p[0],p[1]):direction}\n",
        "back = -1\n",
        "going = True\n",
        "\n",
        "while going==True:\n",
        "  for i, x in enumerate([mode, 0, -mode]):\n",
        "    new_direction = (direction + x) % 4\n",
        "    move = move_list[new_direction]\n",
        "    new_p = p + move\n",
        "    if (new_p[0],new_p[1]) in list(log.keys()):\n",
        "      if i == 2:\n",
        "        p = np.array(list(log.keys())[back])\n",
        "        back -= 1\n",
        "        print(back)\n",
        "        break\n",
        "      else:\n",
        "        continue\n",
        "    cv2.line(img1, p, p+move, color=color, thickness=2, lineType=16)\n",
        "    p = new_p\n",
        "    direction = new_direction\n",
        "    log[(p[0],p[1])] = direction\n",
        "    back = -1\n",
        "    count += 1\n",
        "    if count >= max_count:\n",
        "      mode *= -1\n",
        "      count = 0\n",
        "      max_count = abs(max_count-30)+random.randint(0,5)\n",
        "    break\n",
        "  if not ((a <= p[0] <= w) and (a <= p[1] <= h)):\n",
        "    break\n",
        "\n",
        "cv2_imshow(img1)"
      ]
    },
    {
      "cell_type": "code",
      "source": [
        "cv2_imshow(img1)"
      ],
      "metadata": {
        "colab": {
          "base_uri": "https://localhost:8080/",
          "height": 257
        },
        "id": "UlimC387PqgN",
        "outputId": "3721d734-02f4-4035-d060-3817ea2ab9ed"
      },
      "execution_count": 156,
      "outputs": [
        {
          "output_type": "display_data",
          "data": {
            "text/plain": [
              "<PIL.Image.Image image mode=RGB size=320x240>"
            ],
            "image/png": "[encoded data removed]"
          },
          "metadata": {}
        }
      ]
    },
    {
      "cell_type": "code",
      "source": [
        "p"
      ],
      "metadata": {
        "colab": {
          "base_uri": "https://localhost:8080/"
        },
        "id": "W4ObuFAwavKw",
        "outputId": "2f82f176-2c1a-4abf-97e6-dff4df980715"
      },
      "execution_count": 157,
      "outputs": [
        {
          "output_type": "execute_result",
          "data": {
            "text/plain": [
              "array(190)"
            ]
          },
          "metadata": {},
          "execution_count": 157
        }
      ]
    }
  ]
}