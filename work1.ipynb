{
  "nbformat": 4,
  "nbformat_minor": 0,
  "metadata": {
    "colab": {
      "provenance": [],
      "authorship_tag": "ABX9TyPI0QhS1hj1zrieUjO7Rlre",
      "include_colab_link": true
    },
    "kernelspec": {
      "name": "python3",
      "display_name": "Python 3"
    },
    "language_info": {
      "name": "python"
    }
  },
  "cells": [
    {
      "cell_type": "markdown",
      "metadata": {
        "id": "view-in-github",
        "colab_type": "text"
      },
      "source": [
        "<a href=\"https://colab.research.google.com/github/kyanite153/Prog2kakushin/blob/main/work1.ipynb\" target=\"_parent\"><img src=\"https://colab.research.google.com/assets/colab-badge.svg\" alt=\"Open In Colab\"/></a>"
      ]
    },
    {
      "cell_type": "markdown",
      "source": [
        "#大富豪（トランプゲーム）"
      ],
      "metadata": {
        "id": "tD9Jj_p84n_i"
      }
    },
    {
      "cell_type": "markdown",
      "source": [
        "#ソースコード"
      ],
      "metadata": {
        "id": "jNJMEgIa4uSY"
      }
    },
    {
      "cell_type": "code",
      "execution_count": 19,
      "metadata": {
        "id": "WcuOoebMEHoF",
        "colab": {
          "base_uri": "https://localhost:8080/"
        },
        "outputId": "8b8a536e-e149-43a1-b6ec-26ae2b09d186"
      },
      "outputs": [
        {
          "name": "stdout",
          "output_type": "stream",
          "text": [
            "試合数：1\n",
            "人数(4～6)：1\n"
          ]
        }
      ],
      "source": [
        "import pandas as pd\n",
        "'''\n",
        "（メモ）\n",
        "d\n",
        "h\n",
        "c\n",
        "s\n",
        "joker\n",
        "'''\n",
        "class CareerPoker:\n",
        "  def __init__(self):\n",
        "    self.games = 3\n",
        "    self.istrump_8 = True\n",
        "    self.istrump_s3 = True\n",
        "    self.istrump_s3 = True\n",
        "    self.isreg_sign = True\n",
        "    self.ismiyakooti = True\n",
        "    self.data = pd.DataFrame([[None]],index=['you'],columns=['勝率'])\n",
        "  def is_play_card(self):\n",
        "    pass\n",
        "  def set_game(self):\n",
        "    print('確認/変更したいものを選択．')\n",
        "    print('1:ラウンド数')\n",
        "    print('2:8切り')\n",
        "    print('3:スぺ３返し')\n",
        "    print('4:記号しばり')\n",
        "    print('5:都落ち')\n",
        "    print('6:設定を終了する')\n",
        "    n = int(input('ここに数字を入力:'))\n",
        "    if n == 1:\n",
        "      print(f'現在の設定：{self.games}')\n",
        "      n = input('ラウンド数：')\n",
        "      if 1<=n:\n",
        "        self.games = n\n",
        "      else:\n",
        "        print('エラー．ラウンド数は1以上．')\n",
        "    elif n == 2:\n",
        "      print('')\n",
        "  def run_game(self):\n",
        "    score_data = pd.DataFrame([[None]],index=['you'],columns=['1試合目'])\n",
        "    cpu = [CareerPokerCPU() for x in range(self.number_of_players-1)]\n",
        "    print(cpu)\n",
        "\n",
        "class CareerPokerCPU(CareerPoker):\n",
        "  def __init__(self):\n",
        "    self.strength = 1 #1~3\n",
        "  def play_card(self):\n",
        "    pass\n",
        "\n",
        "games = input('試合数：')\n",
        "player = input('人数(4～6)：')\n"
      ]
    },
    {
      "cell_type": "code",
      "source": [
        "master=CareerPoker()\n",
        "master.run_game()"
      ],
      "metadata": {
        "colab": {
          "base_uri": "https://localhost:8080/"
        },
        "id": "rkV_VGcQIjzk",
        "outputId": "9a6119e7-2842-487e-fbe6-b61e118ac357"
      },
      "execution_count": 20,
      "outputs": [
        {
          "output_type": "stream",
          "name": "stdout",
          "text": [
            "[<__main__.CareerPokerCPU object at 0x7d118686a7d0>, <__main__.CareerPokerCPU object at 0x7d118686b2e0>, <__main__.CareerPokerCPU object at 0x7d118686ae30>]\n"
          ]
        }
      ]
    }
  ]
}