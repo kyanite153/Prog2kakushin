{
  "nbformat": 4,
  "nbformat_minor": 0,
  "metadata": {
    "colab": {
      "provenance": [],
      "authorship_tag": "ABX9TyOrgh44ghPvQpxorx5DbEeF",
      "include_colab_link": true
    },
    "kernelspec": {
      "name": "python3",
      "display_name": "Python 3"
    },
    "language_info": {
      "name": "python"
    }
  },
  "cells": [
    {
      "cell_type": "markdown",
      "metadata": {
        "id": "view-in-github",
        "colab_type": "text"
      },
      "source": [
        "<a href=\"https://colab.research.google.com/github/kyanite153/Prog2kakushin/blob/main/work1.ipynb\" target=\"_parent\"><img src=\"https://colab.research.google.com/assets/colab-badge.svg\" alt=\"Open In Colab\"/></a>"
      ]
    },
    {
      "cell_type": "markdown",
      "source": [
        "#大富豪（トランプゲーム）"
      ],
      "metadata": {
        "id": "tD9Jj_p84n_i"
      }
    },
    {
      "cell_type": "markdown",
      "source": [
        "#ソースコード"
      ],
      "metadata": {
        "id": "jNJMEgIa4uSY"
      }
    },
    {
      "cell_type": "code",
      "execution_count": 40,
      "metadata": {
        "id": "WcuOoebMEHoF",
        "colab": {
          "base_uri": "https://localhost:8080/"
        },
        "outputId": "524e3284-8436-45ef-8e37-74193b788e05"
      },
      "outputs": [
        {
          "output_type": "stream",
          "name": "stdout",
          "text": [
            "あなたの名前を入力：name\n",
            "ゲーム開始\n",
            "   name  1試合目  2試合目  3試合目\n",
            "0  name  None  None  None\n",
            "1  com1  None  None  None\n",
            "2  com2  None  None  None\n",
            "3  com3  None  None  None\n",
            "最初の親はnameです．\n",
            "nameの番です．\n",
            "場のカード：[]\n",
            "False\n"
          ]
        }
      ],
      "source": [
        "import pandas as pd\n",
        "import random\n",
        "\n",
        "class CareerPoker:\n",
        "  def __init__(self, name='player1'):\n",
        "    self.player_name = name\n",
        "    self.games = 3\n",
        "    self.number_of_players = 4\n",
        "    self.istrump_8 = True\n",
        "    self.istrump_s3 = True\n",
        "    self.isreg_sign = True\n",
        "    self.ismiyakooti = True\n",
        "    self.data = pd.DataFrame([[name, 0, 0, 0.]], columns=['名前', '1位', '総試合数', '勝率'])\n",
        "  def is_play_card(self, player, cards=None):\n",
        "    \"\"\"\n",
        "    cardsはset型で受け取る．\n",
        "    \"\"\"\n",
        "    #print(cards)\n",
        "    #print(self.get_all_card())\n",
        "    if not cards <= self.state[player]:\n",
        "      return False\n",
        "    if 'joker' in cards:\n",
        "      new_cards = set(cards)\n",
        "      new_cards.remove('joker')\n",
        "      for x in self.get_all_card():\n",
        "        if x == 'joker':\n",
        "          continue\n",
        "        new_cards.add(x)\n",
        "        if self.is_play_card(player, new_cards):\n",
        "          return True\n",
        "        new_cards.remove(x)\n",
        "    print({x[1:] for x in cards})\n",
        "    if len({x[1:] for x in cards}) == 1:\n",
        "      #2枚以上の同じ数字のカード\n",
        "      return True\n",
        "    #現時点では階段には非対応．\n",
        "    '''\n",
        "    a = [self.get_card_strength(x) for x in list(cards)]\n",
        "    b = [a[x+1]-a[x] for x in range(len(a)-1)]\n",
        "    if set(b)=={1}:\n",
        "      return '階段3'\n",
        "    '''\n",
        "    return False\n",
        "  def sort_cards(self, cards):\n",
        "    return sorted(cards)\n",
        "  def set_game(self):\n",
        "    while True:\n",
        "      print('確認/変更したいものを選択．')\n",
        "      print('1:ラウンド数')\n",
        "      print('2:8切り')\n",
        "      print('3:スぺ３返し')\n",
        "      print('4:記号しばり')\n",
        "      print('5:都落ち')\n",
        "      print('6:設定を終了する')\n",
        "      n = int(input('ここに数字を入力:'))\n",
        "      if n == 1:\n",
        "        print(f'現在の設定：{self.games}')\n",
        "        n = input('ラウンド数：')\n",
        "        if 1<=n:\n",
        "          self.games = n\n",
        "        else:\n",
        "          print('エラー．ラウンド数は1以上．')\n",
        "      elif n == 6:\n",
        "        break\n",
        "  def get_card_strength(self, card):\n",
        "    return self.card_strength.index(card[1:])\n",
        "  def get_all_card(self):\n",
        "    l = ['3','4','5','6','7','8','9','10','J','Q','K','A','2']\n",
        "    return {f'h{x}' for x in l}|{f'd{x}' for x in l}|{f's{x}' for x in l}|{f'c{x}' for x in l}|{'joker'}\n",
        "  def run_game(self):\n",
        "    com = [CareerPokerCOM(self, f'com{x+1}') for x in range(self.number_of_players-1)]\n",
        "    players = [self.player_name]+com\n",
        "    score_data = pd.DataFrame([[players[j]]+[None for i in range(self.games)] for j in range(self.number_of_players)], columns=['name']+[f'{x}試合目' for x in range(1,self.games+1)])\n",
        "    print(score_data)\n",
        "    all_card = self.get_all_card()\n",
        "    self.state = {players[i]:set() for i in range(self.number_of_players)}\n",
        "    self.state['deck'] = all_card\n",
        "    self.card_strength = ['3','4','5','6','7','8','9','10','J','Q','K','A','2','oker']\n",
        "    self.cards_select = set()\n",
        "    #始めの親を決める\n",
        "    parent = random.choice(players)\n",
        "    print(f'最初の親は{parent}です．')\n",
        "    while True:\n",
        "      #ゲーム開始\n",
        "      print(f'{parent}の番です．')\n",
        "      print(f'場のカード：{list(self.cards_select)}')\n",
        "      ans=master.is_play_card(parent, {'d10','joker'})\n",
        "      print(ans)\n",
        "      break\n",
        "\n",
        "class CareerPokerCOM:\n",
        "  def __init__(self, master, name='com'):\n",
        "    self.strength = 1 #1~3\n",
        "    self.master = master\n",
        "    self.name = name\n",
        "  def play_card(self):\n",
        "    return master.is_play_card(self.name)\n",
        "  def __repr__(self):\n",
        "    return self.name\n",
        "\n",
        "def main():\n",
        "  global master\n",
        "  player_name = 'player1'\n",
        "  while True:\n",
        "    player_name = input('あなたの名前を入力：')\n",
        "    if player_name[:3] == 'com':\n",
        "      print('その名前は使用できません')\n",
        "    else:\n",
        "      break\n",
        "  master=CareerPoker(player_name)\n",
        "  print('ゲーム開始')\n",
        "  master.run_game()\n",
        "\n",
        "if __name__ == '__main__':\n",
        "  main()\n"
      ]
    },
    {
      "cell_type": "code",
      "source": [
        "master.is_play_card('deck',{'d10','joker'})\n"
      ],
      "metadata": {
        "colab": {
          "base_uri": "https://localhost:8080/"
        },
        "id": "rkV_VGcQIjzk",
        "outputId": "856c5dde-f7de-4b50-81a2-0ba6c2e94dc4"
      },
      "execution_count": 36,
      "outputs": [
        {
          "output_type": "stream",
          "name": "stdout",
          "text": [
            "{'10', '6'}\n",
            "{'10', '5'}\n",
            "{'7', '10'}\n",
            "{'10'}\n"
          ]
        },
        {
          "output_type": "execute_result",
          "data": {
            "text/plain": [
              "True"
            ]
          },
          "metadata": {},
          "execution_count": 36
        }
      ]
    },
    {
      "cell_type": "code",
      "source": [
        "master.state"
      ],
      "metadata": {
        "colab": {
          "base_uri": "https://localhost:8080/"
        },
        "id": "nJx87FyuqG-c",
        "outputId": "ae1dd73d-6017-41d4-bf2f-7ef3f55ee290"
      },
      "execution_count": 35,
      "outputs": [
        {
          "output_type": "execute_result",
          "data": {
            "text/plain": [
              "{'a': set(),\n",
              " com1: set(),\n",
              " com2: set(),\n",
              " com3: set(),\n",
              " 'deck': {'c10',\n",
              "  'c2',\n",
              "  'c3',\n",
              "  'c4',\n",
              "  'c5',\n",
              "  'c6',\n",
              "  'c7',\n",
              "  'c8',\n",
              "  'c9',\n",
              "  'cA',\n",
              "  'cJ',\n",
              "  'cK',\n",
              "  'cQ',\n",
              "  'd10',\n",
              "  'd2',\n",
              "  'd3',\n",
              "  'd4',\n",
              "  'd5',\n",
              "  'd6',\n",
              "  'd7',\n",
              "  'd8',\n",
              "  'd9',\n",
              "  'dA',\n",
              "  'dJ',\n",
              "  'dK',\n",
              "  'dQ',\n",
              "  'h10',\n",
              "  'h2',\n",
              "  'h3',\n",
              "  'h4',\n",
              "  'h5',\n",
              "  'h6',\n",
              "  'h7',\n",
              "  'h8',\n",
              "  'h9',\n",
              "  'hA',\n",
              "  'hJ',\n",
              "  'hK',\n",
              "  'hQ',\n",
              "  'joker',\n",
              "  's10',\n",
              "  's2',\n",
              "  's3',\n",
              "  's4',\n",
              "  's5',\n",
              "  's6',\n",
              "  's7',\n",
              "  's8',\n",
              "  's9',\n",
              "  'sA',\n",
              "  'sJ',\n",
              "  'sK',\n",
              "  'sQ'}}"
            ]
          },
          "metadata": {},
          "execution_count": 35
        }
      ]
    }
  ]
}